{
 "cells": [
  {
   "cell_type": "code",
   "execution_count": 1,
   "metadata": {},
   "outputs": [],
   "source": [
    "# https://www.statsmodels.org/dev/example_formulas.html\n",
    "\n",
    "import pandas as pd \n",
    "import numpy as np \n",
    "from sklearn.linear_model import LinearRegression \n",
    "from sklearn.metrics import mean_squared_error \n",
    "from scipy.stats import linregress \n",
    "import matplotlib\n",
    "import matplotlib.pyplot as plt \n",
    "%matplotlib inline \n",
    "matplotlib.style.use('ggplot')\n",
    "from scipy.spatial import distance \n",
    "from sklearn.neighbors import KNeighborsRegressor \n",
    "import statsmodels.formula.api as smf \n",
    "import statsmodels.api as sm\n",
    "import statsmodels.graphics as smg\n",
    "import math\n",
    "from statsmodels.api import graphics\n",
    "import seaborn as sns\n",
    "sns.set(style='ticks', color_codes=True)\n"
   ]
  },
  {
   "cell_type": "markdown",
   "metadata": {},
   "source": [
    "# INTRODUCTION TO DATA"
   ]
  },
  {
   "cell_type": "markdown",
   "metadata": {},
   "source": [
    "1.1) DATAFRAME"
   ]
  },
  {
   "cell_type": "code",
   "execution_count": 2,
   "metadata": {},
   "outputs": [],
   "source": [
    "data = pd.read_csv('processed2.csv', encoding='utf-8')"
   ]
  },
  {
   "cell_type": "code",
   "execution_count": 3,
   "metadata": {},
   "outputs": [
    {
     "data": {
      "text/plain": [
       "Index(['Unnamed: 0', 'Gender', 'My position is', 'My working sector is',\n",
       "       'My working industry is', 'What are your net earnings per year?',\n",
       "       'How do you feel about privacy policies on applications?',\n",
       "       'Do you feel you should be compensated for sharing your personal data?',\n",
       "       'How would you value all your personal data?',\n",
       "       'How many smartphones/tablets do you personally own?',\n",
       "       'How many apps have you installed on your smartphone in total?',\n",
       "       'How many games have you installed on your smartphone?',\n",
       "       'How many apps have you installed, where you purchase goods?',\n",
       "       'How many apps have you installed, where you own paid subscriptions?',\n",
       "       'How many bank’s apps do you have?',\n",
       "       'How many apps from social networks do you have?',\n",
       "       'How many installed payment systems do you have?',\n",
       "       'Where are you from?', 'What kind of smartphone do you use?', 'Age',\n",
       "       'Gender_norm', 'My position is_norm',\n",
       "       'What are your net earnings per year?_norm',\n",
       "       'How do you feel about privacy policies on applications?_norm',\n",
       "       'Do you feel you should be compensated for sharing your personal data?_norm',\n",
       "       'How would you value all your personal data?_norm',\n",
       "       'How many smartphones/tablets do you personally own?_norm',\n",
       "       'How many apps have you installed on your smartphone in total?_norm',\n",
       "       'How many games have you installed on your smartphone?_norm',\n",
       "       'How many apps have you installed, where you purchase goods?_norm',\n",
       "       'How many apps have you installed, where you own paid subscriptions?_norm',\n",
       "       'How many bank’s apps do you have?_norm',\n",
       "       'How many apps from social networks do you have?_norm',\n",
       "       'How many installed payment systems do you have?_norm',\n",
       "       'Where are you from?_norm', 'What kind of smartphone do you use?_norm'],\n",
       "      dtype='object')"
      ]
     },
     "execution_count": 3,
     "metadata": {},
     "output_type": "execute_result"
    }
   ],
   "source": [
    "data.columns"
   ]
  },
  {
   "cell_type": "code",
   "execution_count": 4,
   "metadata": {},
   "outputs": [],
   "source": [
    "data1 = data.copy()\n",
    "data1.rename(columns={\n",
    "    'Unnamed: 0': 'id',\n",
    "    'Gender':'gender',\n",
    "    'My position is':'position', \n",
    "    'My working sector is':'sector', \n",
    "    'My working industry is':'industry',\n",
    "    'What are your net earnings per year?': 'earning_year',\n",
    "    'Age':'age',\n",
    "    'How do you feel about privacy policies on applications?':'privacy_feelings',\n",
    "    'Do you feel you should be compensated for sharing your personal data?':'compensation_share_data',\n",
    "    'How would you value all your personal data?':'value_pers_data',\n",
    "    'How many smartphones/tablets do you personally own?_norm':'nr_devices',\n",
    "    'How many apps have you installed on your smartphone in total?_norm':'tot_install_apps',\n",
    "    'How many games have you installed on your smartphone?_norm':'nr_install_games',\n",
    "    'How many apps have you installed, where you purchase goods?_norm':'nr_purchase_goods_apps',\n",
    "    'How many apps have you installed, where you own paid subscriptions?_norm':'nr_pay_sub_apps',\n",
    "    'How many bank’s apps do you have?_norm':'nr_banks_apps',\n",
    "    'How many apps from social networks do you have?_norm':'nr_social_net_apps',\n",
    "    'How many installed payment systems do you have?_norm':'nr_installed_payment_systems',\n",
    "    'Where are you from?_norm':'where',\n",
    "    'What kind of smartphone do you use?':'smartphone_kind',\n",
    "    'What are your net earnings per year?_norm':'earning_norm',\n",
    "                    },\n",
    "            inplace=True)\n",
    "\n",
    "data1.drop(['Gender_norm',\n",
    "            'How do you feel about privacy policies on applications?_norm',\n",
    "            'Do you feel you should be compensated for sharing your personal data?_norm',\n",
    "            'How would you value all your personal data?_norm',\n",
    "            'How many smartphones/tablets do you personally own?',\n",
    "            'How many apps have you installed on your smartphone in total?',\n",
    "            'How many games have you installed on your smartphone?',\n",
    "            'How many apps have you installed, where you purchase goods?',\n",
    "            'How many apps have you installed, where you own paid subscriptions?',\n",
    "            'How many apps from social networks do you have?',\n",
    "            'How many bank’s apps do you have?',\n",
    "            'How many apps from social networks do you have?',\n",
    "            'How many installed payment systems do you have?',\n",
    "            'Where are you from?',\n",
    "            'What kind of smartphone do you use?_norm'],\n",
    "           axis=1, inplace=True\n",
    "          )"
   ]
  },
  {
   "cell_type": "code",
   "execution_count": 5,
   "metadata": {},
   "outputs": [
    {
     "data": {
      "text/plain": [
       "Index(['id', 'gender', 'position', 'sector', 'industry', 'earning_year',\n",
       "       'privacy_feelings', 'compensation_share_data', 'value_pers_data',\n",
       "       'smartphone_kind', 'age', 'My position is_norm', 'earning_norm',\n",
       "       'nr_devices', 'tot_install_apps', 'nr_install_games',\n",
       "       'nr_purchase_goods_apps', 'nr_pay_sub_apps', 'nr_banks_apps',\n",
       "       'nr_social_net_apps', 'nr_installed_payment_systems', 'where'],\n",
       "      dtype='object')"
      ]
     },
     "execution_count": 5,
     "metadata": {},
     "output_type": "execute_result"
    }
   ],
   "source": [
    "data1.columns"
   ]
  },
  {
   "cell_type": "code",
   "execution_count": 6,
   "metadata": {},
   "outputs": [
    {
     "data": {
      "text/html": [
       "<div>\n",
       "<style scoped>\n",
       "    .dataframe tbody tr th:only-of-type {\n",
       "        vertical-align: middle;\n",
       "    }\n",
       "\n",
       "    .dataframe tbody tr th {\n",
       "        vertical-align: top;\n",
       "    }\n",
       "\n",
       "    .dataframe thead th {\n",
       "        text-align: right;\n",
       "    }\n",
       "</style>\n",
       "<table border=\"1\" class=\"dataframe\">\n",
       "  <thead>\n",
       "    <tr style=\"text-align: right;\">\n",
       "      <th></th>\n",
       "      <th>id</th>\n",
       "      <th>gender</th>\n",
       "      <th>position</th>\n",
       "      <th>sector</th>\n",
       "      <th>industry</th>\n",
       "      <th>earning_year</th>\n",
       "      <th>privacy_feelings</th>\n",
       "      <th>compensation_share_data</th>\n",
       "      <th>value_pers_data</th>\n",
       "      <th>smartphone_kind</th>\n",
       "      <th>...</th>\n",
       "      <th>earning_norm</th>\n",
       "      <th>nr_devices</th>\n",
       "      <th>tot_install_apps</th>\n",
       "      <th>nr_install_games</th>\n",
       "      <th>nr_purchase_goods_apps</th>\n",
       "      <th>nr_pay_sub_apps</th>\n",
       "      <th>nr_banks_apps</th>\n",
       "      <th>nr_social_net_apps</th>\n",
       "      <th>nr_installed_payment_systems</th>\n",
       "      <th>where</th>\n",
       "    </tr>\n",
       "  </thead>\n",
       "  <tbody>\n",
       "    <tr>\n",
       "      <th>0</th>\n",
       "      <td>0</td>\n",
       "      <td>Male</td>\n",
       "      <td>Individual Contributor</td>\n",
       "      <td>Advertising</td>\n",
       "      <td>Technology</td>\n",
       "      <td>$40000 - $70000</td>\n",
       "      <td>I’m annoyed of these policies, and check “Agree”;</td>\n",
       "      <td>Mostly yes, depending on the personal data;</td>\n",
       "      <td>Average cost;</td>\n",
       "      <td>NaN</td>\n",
       "      <td>...</td>\n",
       "      <td>2</td>\n",
       "      <td>3</td>\n",
       "      <td>15</td>\n",
       "      <td>0</td>\n",
       "      <td>2</td>\n",
       "      <td>3</td>\n",
       "      <td>1</td>\n",
       "      <td>5</td>\n",
       "      <td>0</td>\n",
       "      <td>NaN</td>\n",
       "    </tr>\n",
       "    <tr>\n",
       "      <th>1</th>\n",
       "      <td>1</td>\n",
       "      <td>Female</td>\n",
       "      <td>Student</td>\n",
       "      <td>Marketing</td>\n",
       "      <td>Consumer</td>\n",
       "      <td>&lt; $40000</td>\n",
       "      <td>I don’t care, I just check “Agree”;</td>\n",
       "      <td>Mostly yes, depending on the personal data;</td>\n",
       "      <td>Average cost;</td>\n",
       "      <td>NaN</td>\n",
       "      <td>...</td>\n",
       "      <td>1</td>\n",
       "      <td>2</td>\n",
       "      <td>22</td>\n",
       "      <td>0</td>\n",
       "      <td>6</td>\n",
       "      <td>0</td>\n",
       "      <td>2</td>\n",
       "      <td>7</td>\n",
       "      <td>1</td>\n",
       "      <td>USA</td>\n",
       "    </tr>\n",
       "    <tr>\n",
       "      <th>70</th>\n",
       "      <td>70</td>\n",
       "      <td>Female</td>\n",
       "      <td>Individual Contributor</td>\n",
       "      <td>Healthcare Provider</td>\n",
       "      <td>Healthcare</td>\n",
       "      <td>&lt; $40000</td>\n",
       "      <td>I don’t care, I just check “Agree”;</td>\n",
       "      <td>Mostly yes, depending on the personal data and...</td>\n",
       "      <td>Average cost;</td>\n",
       "      <td>NaN</td>\n",
       "      <td>...</td>\n",
       "      <td>1</td>\n",
       "      <td>2</td>\n",
       "      <td>30</td>\n",
       "      <td>10</td>\n",
       "      <td>2</td>\n",
       "      <td>0</td>\n",
       "      <td>2</td>\n",
       "      <td>7</td>\n",
       "      <td>0</td>\n",
       "      <td>UK</td>\n",
       "    </tr>\n",
       "    <tr>\n",
       "      <th>92</th>\n",
       "      <td>92</td>\n",
       "      <td>Female</td>\n",
       "      <td>Student</td>\n",
       "      <td>Student</td>\n",
       "      <td>Healthcare</td>\n",
       "      <td>&lt; $40000</td>\n",
       "      <td>I always read it and only agree, when I want to;</td>\n",
       "      <td>Mostly yes, depending on the personal data and...</td>\n",
       "      <td>Low cost;</td>\n",
       "      <td>NaN</td>\n",
       "      <td>...</td>\n",
       "      <td>1</td>\n",
       "      <td>1</td>\n",
       "      <td>63</td>\n",
       "      <td>10</td>\n",
       "      <td>12</td>\n",
       "      <td>0</td>\n",
       "      <td>3</td>\n",
       "      <td>9</td>\n",
       "      <td>1</td>\n",
       "      <td>UK</td>\n",
       "    </tr>\n",
       "    <tr>\n",
       "      <th>102</th>\n",
       "      <td>102</td>\n",
       "      <td>Male</td>\n",
       "      <td>Student</td>\n",
       "      <td>Student</td>\n",
       "      <td>Education</td>\n",
       "      <td>&lt; $40000</td>\n",
       "      <td>I’m annoyed of these policies, and check “Agree”;</td>\n",
       "      <td>Mostly yes, depending on the personal data and...</td>\n",
       "      <td>Expensive;</td>\n",
       "      <td>NaN</td>\n",
       "      <td>...</td>\n",
       "      <td>1</td>\n",
       "      <td>1</td>\n",
       "      <td>12</td>\n",
       "      <td>0</td>\n",
       "      <td>1</td>\n",
       "      <td>0</td>\n",
       "      <td>0</td>\n",
       "      <td>1</td>\n",
       "      <td>0</td>\n",
       "      <td>IRELAND</td>\n",
       "    </tr>\n",
       "    <tr>\n",
       "      <th>108</th>\n",
       "      <td>108</td>\n",
       "      <td>Male</td>\n",
       "      <td>Student</td>\n",
       "      <td>Student</td>\n",
       "      <td>Non-profit</td>\n",
       "      <td>&lt; $40000</td>\n",
       "      <td>I’m annoyed of these policies, and check “Agree”;</td>\n",
       "      <td>Yes, I strongly believe that companies should ...</td>\n",
       "      <td>Expensive;</td>\n",
       "      <td>NaN</td>\n",
       "      <td>...</td>\n",
       "      <td>1</td>\n",
       "      <td>1</td>\n",
       "      <td>107</td>\n",
       "      <td>2</td>\n",
       "      <td>0</td>\n",
       "      <td>0</td>\n",
       "      <td>1</td>\n",
       "      <td>7</td>\n",
       "      <td>1</td>\n",
       "      <td>UK</td>\n",
       "    </tr>\n",
       "    <tr>\n",
       "      <th>132</th>\n",
       "      <td>132</td>\n",
       "      <td>Female</td>\n",
       "      <td>Student</td>\n",
       "      <td>Student</td>\n",
       "      <td>Consumer</td>\n",
       "      <td>&lt; $40000</td>\n",
       "      <td>I don’t care, I just check “Agree”;</td>\n",
       "      <td>Mostly yes, depending on the personal data and...</td>\n",
       "      <td>Low cost;</td>\n",
       "      <td>NaN</td>\n",
       "      <td>...</td>\n",
       "      <td>1</td>\n",
       "      <td>1</td>\n",
       "      <td>71</td>\n",
       "      <td>8</td>\n",
       "      <td>0</td>\n",
       "      <td>0</td>\n",
       "      <td>1</td>\n",
       "      <td>4</td>\n",
       "      <td>1</td>\n",
       "      <td>NETHERLANDS</td>\n",
       "    </tr>\n",
       "    <tr>\n",
       "      <th>143</th>\n",
       "      <td>143</td>\n",
       "      <td>Male</td>\n",
       "      <td>Owner</td>\n",
       "      <td>Consulting</td>\n",
       "      <td>Professional Services</td>\n",
       "      <td>&lt; $40000</td>\n",
       "      <td>I always read it and agree, even if I don’t wa...</td>\n",
       "      <td>Mostly yes, depending on the personal data and...</td>\n",
       "      <td>Expensive;</td>\n",
       "      <td>NaN</td>\n",
       "      <td>...</td>\n",
       "      <td>1</td>\n",
       "      <td>2</td>\n",
       "      <td>9</td>\n",
       "      <td>0</td>\n",
       "      <td>0</td>\n",
       "      <td>0</td>\n",
       "      <td>0</td>\n",
       "      <td>0</td>\n",
       "      <td>0</td>\n",
       "      <td>UK</td>\n",
       "    </tr>\n",
       "    <tr>\n",
       "      <th>147</th>\n",
       "      <td>147</td>\n",
       "      <td>Male</td>\n",
       "      <td>Manager</td>\n",
       "      <td>Product Management</td>\n",
       "      <td>Healthcare</td>\n",
       "      <td>$40000 - $70000</td>\n",
       "      <td>I don’t care, I just check “Agree”;</td>\n",
       "      <td>Mostly yes, depending on the personal data and...</td>\n",
       "      <td>Low cost;</td>\n",
       "      <td>NaN</td>\n",
       "      <td>...</td>\n",
       "      <td>2</td>\n",
       "      <td>1</td>\n",
       "      <td>15</td>\n",
       "      <td>1</td>\n",
       "      <td>2</td>\n",
       "      <td>0</td>\n",
       "      <td>3</td>\n",
       "      <td>1</td>\n",
       "      <td>0</td>\n",
       "      <td>GERMANY</td>\n",
       "    </tr>\n",
       "    <tr>\n",
       "      <th>156</th>\n",
       "      <td>156</td>\n",
       "      <td>Female</td>\n",
       "      <td>Individual Contributor</td>\n",
       "      <td>Consulting</td>\n",
       "      <td>Education</td>\n",
       "      <td>$40000 - $70000</td>\n",
       "      <td>I always read it and only agree, when I want to;</td>\n",
       "      <td>Yes for product marketing, no for non-profit m...</td>\n",
       "      <td>Average cost;</td>\n",
       "      <td>NaN</td>\n",
       "      <td>...</td>\n",
       "      <td>2</td>\n",
       "      <td>1</td>\n",
       "      <td>60</td>\n",
       "      <td>0</td>\n",
       "      <td>8</td>\n",
       "      <td>2</td>\n",
       "      <td>2</td>\n",
       "      <td>4</td>\n",
       "      <td>1</td>\n",
       "      <td>USA</td>\n",
       "    </tr>\n",
       "    <tr>\n",
       "      <th>157</th>\n",
       "      <td>157</td>\n",
       "      <td>Male</td>\n",
       "      <td>Vice President</td>\n",
       "      <td>Marketing</td>\n",
       "      <td>Government</td>\n",
       "      <td>$150000 - $400000</td>\n",
       "      <td>I’m annoyed of these policies, and check “Agree”;</td>\n",
       "      <td>No, I’m fine to give my personal data for free;</td>\n",
       "      <td>Free;</td>\n",
       "      <td>NaN</td>\n",
       "      <td>...</td>\n",
       "      <td>4</td>\n",
       "      <td>2</td>\n",
       "      <td>-1</td>\n",
       "      <td>-1</td>\n",
       "      <td>-1</td>\n",
       "      <td>-1</td>\n",
       "      <td>-1</td>\n",
       "      <td>-1</td>\n",
       "      <td>-1</td>\n",
       "      <td>NaN</td>\n",
       "    </tr>\n",
       "  </tbody>\n",
       "</table>\n",
       "<p>11 rows × 22 columns</p>\n",
       "</div>"
      ],
      "text/plain": [
       "      id  gender                position               sector  \\\n",
       "0      0    Male  Individual Contributor          Advertising   \n",
       "1      1  Female                 Student            Marketing   \n",
       "70    70  Female  Individual Contributor  Healthcare Provider   \n",
       "92    92  Female                 Student              Student   \n",
       "102  102    Male                 Student              Student   \n",
       "108  108    Male                 Student              Student   \n",
       "132  132  Female                 Student              Student   \n",
       "143  143    Male                   Owner           Consulting   \n",
       "147  147    Male                 Manager   Product Management   \n",
       "156  156  Female  Individual Contributor           Consulting   \n",
       "157  157    Male          Vice President            Marketing   \n",
       "\n",
       "                  industry       earning_year  \\\n",
       "0               Technology    $40000 - $70000   \n",
       "1                 Consumer           < $40000   \n",
       "70              Healthcare           < $40000   \n",
       "92              Healthcare           < $40000   \n",
       "102              Education           < $40000   \n",
       "108             Non-profit           < $40000   \n",
       "132               Consumer           < $40000   \n",
       "143  Professional Services           < $40000   \n",
       "147             Healthcare    $40000 - $70000   \n",
       "156              Education    $40000 - $70000   \n",
       "157             Government  $150000 - $400000   \n",
       "\n",
       "                                      privacy_feelings  \\\n",
       "0    I’m annoyed of these policies, and check “Agree”;   \n",
       "1                  I don’t care, I just check “Agree”;   \n",
       "70                 I don’t care, I just check “Agree”;   \n",
       "92    I always read it and only agree, when I want to;   \n",
       "102  I’m annoyed of these policies, and check “Agree”;   \n",
       "108  I’m annoyed of these policies, and check “Agree”;   \n",
       "132                I don’t care, I just check “Agree”;   \n",
       "143  I always read it and agree, even if I don’t wa...   \n",
       "147                I don’t care, I just check “Agree”;   \n",
       "156   I always read it and only agree, when I want to;   \n",
       "157  I’m annoyed of these policies, and check “Agree”;   \n",
       "\n",
       "                               compensation_share_data value_pers_data  \\\n",
       "0          Mostly yes, depending on the personal data;   Average cost;   \n",
       "1          Mostly yes, depending on the personal data;   Average cost;   \n",
       "70   Mostly yes, depending on the personal data and...   Average cost;   \n",
       "92   Mostly yes, depending on the personal data and...       Low cost;   \n",
       "102  Mostly yes, depending on the personal data and...      Expensive;   \n",
       "108  Yes, I strongly believe that companies should ...      Expensive;   \n",
       "132  Mostly yes, depending on the personal data and...       Low cost;   \n",
       "143  Mostly yes, depending on the personal data and...      Expensive;   \n",
       "147  Mostly yes, depending on the personal data and...       Low cost;   \n",
       "156  Yes for product marketing, no for non-profit m...   Average cost;   \n",
       "157    No, I’m fine to give my personal data for free;           Free;   \n",
       "\n",
       "    smartphone_kind     ...      earning_norm  nr_devices  tot_install_apps  \\\n",
       "0               NaN     ...                 2           3                15   \n",
       "1               NaN     ...                 1           2                22   \n",
       "70              NaN     ...                 1           2                30   \n",
       "92              NaN     ...                 1           1                63   \n",
       "102             NaN     ...                 1           1                12   \n",
       "108             NaN     ...                 1           1               107   \n",
       "132             NaN     ...                 1           1                71   \n",
       "143             NaN     ...                 1           2                 9   \n",
       "147             NaN     ...                 2           1                15   \n",
       "156             NaN     ...                 2           1                60   \n",
       "157             NaN     ...                 4           2                -1   \n",
       "\n",
       "     nr_install_games  nr_purchase_goods_apps  nr_pay_sub_apps  nr_banks_apps  \\\n",
       "0                   0                       2                3              1   \n",
       "1                   0                       6                0              2   \n",
       "70                 10                       2                0              2   \n",
       "92                 10                      12                0              3   \n",
       "102                 0                       1                0              0   \n",
       "108                 2                       0                0              1   \n",
       "132                 8                       0                0              1   \n",
       "143                 0                       0                0              0   \n",
       "147                 1                       2                0              3   \n",
       "156                 0                       8                2              2   \n",
       "157                -1                      -1               -1             -1   \n",
       "\n",
       "     nr_social_net_apps  nr_installed_payment_systems        where  \n",
       "0                     5                             0          NaN  \n",
       "1                     7                             1          USA  \n",
       "70                    7                             0           UK  \n",
       "92                    9                             1           UK  \n",
       "102                   1                             0      IRELAND  \n",
       "108                   7                             1           UK  \n",
       "132                   4                             1  NETHERLANDS  \n",
       "143                   0                             0           UK  \n",
       "147                   1                             0      GERMANY  \n",
       "156                   4                             1          USA  \n",
       "157                  -1                            -1          NaN  \n",
       "\n",
       "[11 rows x 22 columns]"
      ]
     },
     "execution_count": 6,
     "metadata": {},
     "output_type": "execute_result"
    }
   ],
   "source": [
    "data1[data1['smartphone_kind'] != data1['smartphone_kind']].head(11)"
   ]
  },
  {
   "cell_type": "code",
   "execution_count": 7,
   "metadata": {},
   "outputs": [
    {
     "data": {
      "text/plain": [
       "id                               0\n",
       "gender                           0\n",
       "position                         0\n",
       "sector                           0\n",
       "industry                         0\n",
       "earning_year                     0\n",
       "privacy_feelings                 0\n",
       "compensation_share_data          0\n",
       "value_pers_data                  0\n",
       "smartphone_kind                 11\n",
       "age                              1\n",
       "My position is_norm              1\n",
       "earning_norm                     0\n",
       "nr_devices                       0\n",
       "tot_install_apps                 0\n",
       "nr_install_games                 0\n",
       "nr_purchase_goods_apps           0\n",
       "nr_pay_sub_apps                  0\n",
       "nr_banks_apps                    0\n",
       "nr_social_net_apps               0\n",
       "nr_installed_payment_systems     0\n",
       "where                            4\n",
       "dtype: int64"
      ]
     },
     "execution_count": 7,
     "metadata": {},
     "output_type": "execute_result"
    }
   ],
   "source": [
    "data1.isnull().sum()"
   ]
  },
  {
   "cell_type": "markdown",
   "metadata": {},
   "source": [
    "# DATAFRAME AND VARIABLES DESCRIPTION"
   ]
  },
  {
   "cell_type": "markdown",
   "metadata": {},
   "source": [
    "CATEGORICAL VARIABLES"
   ]
  },
  {
   "cell_type": "markdown",
   "metadata": {},
   "source": [
    "1.1) gender"
   ]
  },
  {
   "cell_type": "code",
   "execution_count": 8,
   "metadata": {
    "scrolled": false
   },
   "outputs": [
    {
     "data": {
      "text/plain": [
       "<seaborn.axisgrid.FacetGrid at 0x7fe4c3ed0748>"
      ]
     },
     "execution_count": 8,
     "metadata": {},
     "output_type": "execute_result"
    },
    {
     "data": {
      "image/png": "[encoded data removed]",
      "text/plain": [
       "<Figure size 360x360 with 1 Axes>"
      ]
     },
     "metadata": {
      "needs_background": "light"
     },
     "output_type": "display_data"
    }
   ],
   "source": [
    "sns.catplot(x=\"gender\", kind=\"count\", palette=\"ch:.25\", data=data1)"
   ]
  },
  {
   "cell_type": "code",
   "execution_count": 9,
   "metadata": {},
   "outputs": [
    {
     "data": {
      "text/plain": [
       "Female        107\n",
       "Male           55\n",
       "non-binary      1\n",
       "Name: gender, dtype: int64"
      ]
     },
     "execution_count": 9,
     "metadata": {},
     "output_type": "execute_result"
    }
   ],
   "source": [
    "data1['gender'].value_counts()"
   ]
  },
  {
   "cell_type": "markdown",
   "metadata": {},
   "source": [
    "It appears from the previous histogram that the Female gender is more represented than the Male gender. Furthermore a small group of non-binary exists in the dataframe."
   ]
  },
  {
   "cell_type": "markdown",
   "metadata": {},
   "source": [
    "1.2) position"
   ]
  },
  {
   "cell_type": "code",
   "execution_count": 10,
   "metadata": {},
   "outputs": [
    {
     "data": {
      "text/plain": [
       "Student                   116\n",
       "Individual Contributor     22\n",
       "Manager                    10\n",
       "Owner                       8\n",
       "Intern                      3\n",
       "Director                    2\n",
       "C-Level                     1\n",
       "Vice President              1\n",
       "Name: position, dtype: int64"
      ]
     },
     "execution_count": 10,
     "metadata": {},
     "output_type": "execute_result"
    }
   ],
   "source": [
    "data1['position'].value_counts()"
   ]
  },
  {
   "cell_type": "markdown",
   "metadata": {},
   "source": [
    "Let's create a column of student and no_student"
   ]
  },
  {
   "cell_type": "code",
   "execution_count": 11,
   "metadata": {},
   "outputs": [
    {
     "data": {
      "text/plain": [
       "array(['no_student', 'student'], dtype=object)"
      ]
     },
     "execution_count": 11,
     "metadata": {},
     "output_type": "execute_result"
    }
   ],
   "source": [
    "data1['is_student'] = np.nan\n",
    "\n",
    "data1.loc[(data1['position'] == 'Student'), 'is_student'] = 'student'\n",
    "data1.loc[(data1['position'] != 'Student'), 'is_student'] = 'no_student'\n",
    "\n",
    "data1['is_student'].unique()"
   ]
  },
  {
   "cell_type": "markdown",
   "metadata": {},
   "source": [
    "As it can be inferred from the istagram the position 'Student' is the highest represented position in the dataframe.\n",
    "Let's group the positions by paid and unpaid positions."
   ]
  },
  {
   "cell_type": "code",
   "execution_count": 12,
   "metadata": {},
   "outputs": [],
   "source": [
    "data1.loc[\n",
    "    (data1['position'] == 'Intern') | (data1['position'] == 'Student'),\n",
    "    'position'] = 'unpaid'\n",
    "data1.loc[\n",
    "    (data1['position'] == 'Individual Contributor') | (data1['position'] == 'Manager') | (data1['position'] == 'Vice President') |\n",
    "    (data1['position'] == 'Owner') | (data1['position'] == 'Director') |\n",
    "    (data1['position'] == 'C-Level'),\n",
    "    'position'] = 'paid'"
   ]
  },
  {
   "cell_type": "code",
   "execution_count": 13,
   "metadata": {},
   "outputs": [
    {
     "data": {
      "text/plain": [
       "<seaborn.axisgrid.FacetGrid at 0x7fe4c3ba2630>"
      ]
     },
     "execution_count": 13,
     "metadata": {},
     "output_type": "execute_result"
    },
    {
     "data": {
      "image/png": "[encoded data removed]",
      "text/plain": [
       "<Figure size 360x360 with 1 Axes>"
      ]
     },
     "metadata": {
      "needs_background": "light"
     },
     "output_type": "display_data"
    }
   ],
   "source": [
    "a = sns.catplot(x=\"position\", kind=\"count\", palette=\"ch:.25\", data=data1)\n",
    "a.set_xticklabels(rotation=45)"
   ]
  },
  {
   "cell_type": "code",
   "execution_count": 14,
   "metadata": {},
   "outputs": [
    {
     "data": {
      "text/plain": [
       "unpaid    119\n",
       "paid       44\n",
       "Name: position, dtype: int64"
      ]
     },
     "execution_count": 14,
     "metadata": {},
     "output_type": "execute_result"
    }
   ],
   "source": [
    "data1['position'].value_counts()"
   ]
  },
  {
   "cell_type": "markdown",
   "metadata": {},
   "source": [
    "1.3) sector"
   ]
  },
  {
   "cell_type": "code",
   "execution_count": 15,
   "metadata": {},
   "outputs": [
    {
     "data": {
      "text/plain": [
       "<seaborn.axisgrid.FacetGrid at 0x7fe4c3b48f98>"
      ]
     },
     "execution_count": 15,
     "metadata": {},
     "output_type": "execute_result"
    },
    {
     "data": {
      "image/png": "[encoded data removed]",
      "text/plain": [
       "<Figure size 360x360 with 1 Axes>"
      ]
     },
     "metadata": {
      "needs_background": "light"
     },
     "output_type": "display_data"
    }
   ],
   "source": [
    "a = sns.catplot(x=\"sector\", kind=\"count\", palette=\"ch:.25\", data=data1)\n",
    "a.set_xticklabels(rotation=90)"
   ]
  },
  {
   "cell_type": "code",
   "execution_count": 16,
   "metadata": {},
   "outputs": [
    {
     "data": {
      "text/plain": [
       "Student                            61\n",
       "Marketing                          14\n",
       "Art/Creative/Design                10\n",
       "Engineering                         9\n",
       "Consulting                          7\n",
       "Educator/Instructor                 6\n",
       "Healthcare Provider                 6\n",
       "IT                                  6\n",
       "Not Applicable                      5\n",
       "Sales                               5\n",
       "Customer Service                    5\n",
       "Research/Analytics                  5\n",
       "Advertising                         5\n",
       "Product Management                  3\n",
       "Business/Strategy                   3\n",
       "Accounting                          3\n",
       "Administration                      2\n",
       "Public Relations/Communications     2\n",
       "Management                          2\n",
       "Legal/Compliance                    2\n",
       "Finance                             1\n",
       "Human Resources                     1\n",
       "Name: sector, dtype: int64"
      ]
     },
     "execution_count": 16,
     "metadata": {},
     "output_type": "execute_result"
    }
   ],
   "source": [
    "data1['sector'].value_counts()"
   ]
  },
  {
   "cell_type": "markdown",
   "metadata": {},
   "source": [
    "The 'Student' (58 counts) sector has the highest number of counts in the sector variable (representing more the 1/3 of the counts in sector), followed by the 'Marketing', 'Engineering' and 'Art/Creative/Design' sectors, having respectively 13, 9 and 8 counts."
   ]
  },
  {
   "cell_type": "markdown",
   "metadata": {},
   "source": [
    "1.4) industry"
   ]
  },
  {
   "cell_type": "code",
   "execution_count": 17,
   "metadata": {},
   "outputs": [
    {
     "data": {
      "text/plain": [
       "Education                52\n",
       "Consumer                 25\n",
       "Technology               22\n",
       "Professional Services    16\n",
       "Healthcare               15\n",
       "Finance                  10\n",
       "Non-profit                7\n",
       "Government                6\n",
       "Manufacturing             6\n",
       "Transport                 2\n",
       "Materials                 2\n",
       "Name: industry, dtype: int64"
      ]
     },
     "execution_count": 17,
     "metadata": {},
     "output_type": "execute_result"
    }
   ],
   "source": [
    "data1['industry'].value_counts()"
   ]
  },
  {
   "cell_type": "markdown",
   "metadata": {},
   "source": [
    "The 'Education' (52 counts) industry has the highest number of counts in the industry variable (representing 1/3 of the counts in industry); this makes sense as the most represented sector in the dataframe is 'Student'. followed by\n",
    "Other industries well represented are 'Consumer', 'Technology', 'Healthcare', 'Professional Services' and 'Finances' industry, having respectively 24, 21, 15, 13 and 10 counts. \n",
    "Let's group similar industries together"
   ]
  },
  {
   "cell_type": "code",
   "execution_count": 18,
   "metadata": {},
   "outputs": [],
   "source": [
    "data1.loc[\n",
    "    (data1['industry'] == 'Technology') | \n",
    "    (data1['industry'] == 'Materials') |\n",
    "    (data1['industry'] == 'Manufacturing'), \n",
    "    'industry'] = 'Technology' "
   ]
  },
  {
   "cell_type": "code",
   "execution_count": 19,
   "metadata": {},
   "outputs": [
    {
     "data": {
      "text/plain": [
       "<seaborn.axisgrid.FacetGrid at 0x7fe4c3ab1240>"
      ]
     },
     "execution_count": 19,
     "metadata": {},
     "output_type": "execute_result"
    },
    {
     "data": {
      "image/png": "[encoded data removed]",
      "text/plain": [
       "<Figure size 360x360 with 1 Axes>"
      ]
     },
     "metadata": {
      "needs_background": "light"
     },
     "output_type": "display_data"
    }
   ],
   "source": [
    "a = sns.catplot(x=\"industry\", kind=\"count\", palette=\"ch:.25\", data=data1)\n",
    "a.set_xticklabels(rotation=90)"
   ]
  },
  {
   "cell_type": "code",
   "execution_count": 20,
   "metadata": {},
   "outputs": [
    {
     "data": {
      "text/plain": [
       "Education                52\n",
       "Technology               30\n",
       "Consumer                 25\n",
       "Professional Services    16\n",
       "Healthcare               15\n",
       "Finance                  10\n",
       "Non-profit                7\n",
       "Government                6\n",
       "Transport                 2\n",
       "Name: industry, dtype: int64"
      ]
     },
     "execution_count": 20,
     "metadata": {},
     "output_type": "execute_result"
    }
   ],
   "source": [
    "data1['industry'].value_counts()"
   ]
  },
  {
   "cell_type": "markdown",
   "metadata": {},
   "source": [
    "1.5) earning_year"
   ]
  },
  {
   "cell_type": "code",
   "execution_count": 21,
   "metadata": {},
   "outputs": [],
   "source": [
    "data1['earning_year'] = data1['earning_year'].str.replace('$','')"
   ]
  },
  {
   "cell_type": "code",
   "execution_count": 22,
   "metadata": {},
   "outputs": [
    {
     "data": {
      "text/plain": [
       "< 40000            125\n",
       "40000 - 70000       27\n",
       "70000 - 150000       7\n",
       "150000 - 400000      2\n",
       "> 400000             2\n",
       "Name: earning_year, dtype: int64"
      ]
     },
     "execution_count": 22,
     "metadata": {},
     "output_type": "execute_result"
    }
   ],
   "source": [
    "data1['earning_year'].value_counts()"
   ]
  },
  {
   "cell_type": "markdown",
   "metadata": {},
   "source": [
    "The people earning less the 40000 dollars are the people highly represented in the dataframe with 120 counts(4/5 of the all data),\n",
    "followed by people earning 40000 -70000 dollars (23 counts) and people earning 70000-150000 dollars (7 counts).\n",
    "A good idea could  be to group the people earning 70000-150000, 150000-400000 and > 400000 dollars (7, 1, a 1 counts respectively) together as they are the less represented.\n",
    "\n"
   ]
  },
  {
   "cell_type": "code",
   "execution_count": 23,
   "metadata": {},
   "outputs": [],
   "source": [
    "data1.loc[\n",
    "    (data1['earning_year'] == '70000 - 150000') | \n",
    "    (data1['earning_year'] == '150000 - 400000') |\n",
    "    (data1['earning_year'] == '> 400000'), \n",
    "    'earning_year'] = 'high' \n",
    "\n",
    "data1.loc[data1['earning_year'] == '< 40000', 'earning_year'] = 'low'\n",
    "data1.loc[data1['earning_year'] == '40000 - 70000', 'earning_year'] = 'medium'"
   ]
  },
  {
   "cell_type": "code",
   "execution_count": 24,
   "metadata": {
    "scrolled": true
   },
   "outputs": [
    {
     "data": {
      "text/plain": [
       "<seaborn.axisgrid.FacetGrid at 0x7fe4c3a2d4a8>"
      ]
     },
     "execution_count": 24,
     "metadata": {},
     "output_type": "execute_result"
    },
    {
     "data": {
      "image/png": "[encoded data removed]",
      "text/plain": [
       "<Figure size 360x360 with 1 Axes>"
      ]
     },
     "metadata": {
      "needs_background": "light"
     },
     "output_type": "display_data"
    }
   ],
   "source": [
    "a = sns.catplot(x=\"earning_year\", kind=\"count\", palette=\"ch:.25\", data=data1)\n",
    "a.set_xticklabels(rotation=90)"
   ]
  },
  {
   "cell_type": "code",
   "execution_count": 25,
   "metadata": {},
   "outputs": [
    {
     "data": {
      "text/plain": [
       "low       125\n",
       "medium     27\n",
       "high       11\n",
       "Name: earning_year, dtype: int64"
      ]
     },
     "execution_count": 25,
     "metadata": {},
     "output_type": "execute_result"
    }
   ],
   "source": [
    "data1['earning_year'].value_counts()"
   ]
  },
  {
   "cell_type": "markdown",
   "metadata": {},
   "source": [
    "1.6) age"
   ]
  },
  {
   "cell_type": "code",
   "execution_count": 26,
   "metadata": {},
   "outputs": [
    {
     "data": {
      "text/plain": [
       "array(['28', '23', '40', '29', '21', '25', '32', '22', '24', '39', nan,\n",
       "       '18', '27', '37', '30', '33', '44', '26', '17', '35', '36', '38',\n",
       "       '47', '34', '41', 'prefer not to say', '46', '31', '45', '20',\n",
       "       '53'], dtype=object)"
      ]
     },
     "execution_count": 26,
     "metadata": {},
     "output_type": "execute_result"
    }
   ],
   "source": [
    "data1['age'].unique()"
   ]
  },
  {
   "cell_type": "code",
   "execution_count": 27,
   "metadata": {},
   "outputs": [
    {
     "data": {
      "text/plain": [
       "21                   32\n",
       "22                   28\n",
       "23                   18\n",
       "25                   13\n",
       "28                    9\n",
       "29                    6\n",
       "26                    6\n",
       "24                    4\n",
       "32                    4\n",
       "18                    4\n",
       "44                    3\n",
       "30                    3\n",
       "40                    3\n",
       "35                    3\n",
       "36                    3\n",
       "27                    3\n",
       "39                    3\n",
       "41                    2\n",
       "33                    2\n",
       "38                    2\n",
       "17                    2\n",
       "prefer not to say     1\n",
       "34                    1\n",
       "47                    1\n",
       "37                    1\n",
       "45                    1\n",
       "46                    1\n",
       "53                    1\n",
       "31                    1\n",
       "20                    1\n",
       "Name: age, dtype: int64"
      ]
     },
     "execution_count": 27,
     "metadata": {},
     "output_type": "execute_result"
    }
   ],
   "source": [
    "data1['age'].value_counts()"
   ]
  },
  {
   "cell_type": "code",
   "execution_count": 28,
   "metadata": {},
   "outputs": [
    {
     "data": {
      "text/plain": [
       "False    162\n",
       "True       1\n",
       "Name: age, dtype: int64"
      ]
     },
     "execution_count": 28,
     "metadata": {},
     "output_type": "execute_result"
    }
   ],
   "source": [
    "data1['age'].isnull().value_counts()"
   ]
  },
  {
   "cell_type": "markdown",
   "metadata": {},
   "source": [
    "As it can be noticed a string 'prefer not to say' (1 count) and nan value (1 count) are present in the column 'age'. Let's replace them with the median value of the column.\n"
   ]
  },
  {
   "cell_type": "code",
   "execution_count": 29,
   "metadata": {},
   "outputs": [],
   "source": [
    "data1.replace('prefer not to say', np.nan, inplace=True)\n",
    "data1['age'].fillna((data1['age'].median()), inplace=True)"
   ]
  },
  {
   "cell_type": "markdown",
   "metadata": {},
   "source": [
    "A good idea could be to divide the people in group by age as follows:\n",
    "    - 17-21\n",
    "    - 22-25\n",
    "    - 26-30\n",
    "    - 31-35\n",
    "    - 36-40\n",
    "    - > 40\n"
   ]
  },
  {
   "cell_type": "code",
   "execution_count": 30,
   "metadata": {},
   "outputs": [],
   "source": [
    "#age group function\n",
    "\n",
    "def gen(x):\n",
    "    if (x < 22):\n",
    "        return '17-21'\n",
    "    if (x >= 22) & (x < 26):\n",
    "        return '22-25'\n",
    "    if (x >= 26) & (x < 31):\n",
    "        return '26-30'\n",
    "    if (x >= 31) & (x < 36):\n",
    "        return '31-35'\n",
    "    if (x >= 36) & (x < 41):\n",
    "        return '36-40'\n",
    "    if (x >= 41):\n",
    "        return '41-47'\n",
    "    \n",
    "data1['age_group'] = data1['age'].astype(float).apply(gen)\n"
   ]
  },
  {
   "cell_type": "code",
   "execution_count": 31,
   "metadata": {},
   "outputs": [
    {
     "data": {
      "text/plain": [
       "17-21    39\n",
       "22-25    65\n",
       "26-30    27\n",
       "31-35    11\n",
       "36-40    12\n",
       "41-47     9\n",
       "Name: age_group, dtype: int64"
      ]
     },
     "execution_count": 31,
     "metadata": {},
     "output_type": "execute_result"
    }
   ],
   "source": [
    "data1['age_group'].value_counts().sort_index()"
   ]
  },
  {
   "cell_type": "code",
   "execution_count": 32,
   "metadata": {},
   "outputs": [
    {
     "data": {
      "text/plain": [
       "0"
      ]
     },
     "execution_count": 32,
     "metadata": {},
     "output_type": "execute_result"
    }
   ],
   "source": [
    "data1['age_group'].isnull().sum()"
   ]
  },
  {
   "cell_type": "code",
   "execution_count": 33,
   "metadata": {
    "scrolled": true
   },
   "outputs": [
    {
     "data": {
      "text/plain": [
       "<seaborn.axisgrid.FacetGrid at 0x7fe4c397b048>"
      ]
     },
     "execution_count": 33,
     "metadata": {},
     "output_type": "execute_result"
    },
    {
     "data": {
      "image/png": "[encoded data removed]",
      "text/plain": [
       "<Figure size 360x360 with 1 Axes>"
      ]
     },
     "metadata": {
      "needs_background": "light"
     },
     "output_type": "display_data"
    }
   ],
   "source": [
    "a = sns.catplot(x=\"age_group\", kind=\"count\", palette=\"ch:.25\", data=data1)\n",
    "a.set_xticklabels(rotation=90)"
   ]
  },
  {
   "cell_type": "markdown",
   "metadata": {},
   "source": [
    "The people in the age_range 22-25 have the highest counts (63), followed by the 17-21 age_group (38 counts) and 26-30 age_group (23 counts). It makes sense as the manjority of individuals in the dataframe are students."
   ]
  },
  {
   "cell_type": "markdown",
   "metadata": {},
   "source": [
    "1.7) privacy_feelings"
   ]
  },
  {
   "cell_type": "code",
   "execution_count": 34,
   "metadata": {},
   "outputs": [
    {
     "data": {
      "text/plain": [
       "I don’t care, I just check “Agree”;                                              76\n",
       "I’m annoyed of these policies, and check “Agree”;                                40\n",
       "I always read it and agree, even if I don’t want to, but need to use the app;    24\n",
       "I always read it and only agree, when I want to;                                 14\n",
       "I don't always read. They are usually too long.                                   1\n",
       "I decline them when I can                                                         1\n",
       "free/libre open source applications, thank you                                    1\n",
       "Never read it, still care but not enough to not use the app                       1\n",
       "I don't read them, but I'm generally aware of what they are about                 1\n",
       "What policies?                                                                    1\n",
       "If I need it I agree, if I don't need it I read some.                             1\n",
       "I usually agree, but am leary with some                                           1\n",
       "I sometimes read, depending on the application and situation                      1\n",
       "Name: privacy_feelings, dtype: int64"
      ]
     },
     "execution_count": 34,
     "metadata": {},
     "output_type": "execute_result"
    }
   ],
   "source": [
    "data1['privacy_feelings'].value_counts()"
   ]
  },
  {
   "cell_type": "markdown",
   "metadata": {},
   "source": [
    "Let's group the answer with counts equals to one all together as they are low represented in the dataframe."
   ]
  },
  {
   "cell_type": "code",
   "execution_count": 35,
   "metadata": {},
   "outputs": [],
   "source": [
    "def privacy(x):\n",
    "    if (x == 'I don’t care, I just check “Agree”;'):\n",
    "        return 'nocare_agree'\n",
    "    if (x == 'I’m annoyed of these policies, and check “Agree”;'):\n",
    "        return 'annoyed_agree'\n",
    "    if (x == 'I always read it and agree, even if I don’t want to, but need to use the app;'):\n",
    "        return '(read_agree)_nowant'\n",
    "    elif (x == 'I always read it and only agree, when I want to;'):\n",
    "        return '(read_agree)_want'\n",
    "    else:\n",
    "        return 'other'"
   ]
  },
  {
   "cell_type": "code",
   "execution_count": 36,
   "metadata": {},
   "outputs": [
    {
     "data": {
      "text/plain": [
       "nocare_agree           76\n",
       "annoyed_agree          40\n",
       "(read_agree)_nowant    24\n",
       "(read_agree)_want      14\n",
       "other                   9\n",
       "Name: privacy_feelings, dtype: int64"
      ]
     },
     "execution_count": 36,
     "metadata": {},
     "output_type": "execute_result"
    }
   ],
   "source": [
    "data1['privacy_feelings'] = data1['privacy_feelings'].apply(privacy)\n",
    "data1['privacy_feelings'].value_counts()"
   ]
  },
  {
   "cell_type": "code",
   "execution_count": 37,
   "metadata": {},
   "outputs": [
    {
     "data": {
      "text/plain": [
       "<seaborn.axisgrid.FacetGrid at 0x7fe4c3901828>"
      ]
     },
     "execution_count": 37,
     "metadata": {},
     "output_type": "execute_result"
    },
    {
     "data": {
      "image/png": "[encoded data removed]",
      "text/plain": [
       "<Figure size 360x360 with 1 Axes>"
      ]
     },
     "metadata": {
      "needs_background": "light"
     },
     "output_type": "display_data"
    }
   ],
   "source": [
    "a = sns.catplot(x=\"privacy_feelings\", kind=\"count\", palette=\"ch:.25\", data=data1)\n",
    "a.set_xticklabels(rotation=90)"
   ]
  },
  {
   "cell_type": "markdown",
   "metadata": {},
   "source": [
    "The individuals who don’t care and just check “Agree\" are highly represented in the dataframe with 69 counts, followed by\n",
    "- the individuals annoyed of these policies, and check “Agree” (39 counts), \n",
    "- the individuals who always read the policies and agree, even if they don’t want to, but need to use the app (23 counts),\n",
    "- the individuals who always read the policies and only agree, when they want to (13 counts).\n",
    "- the remaining individuals answered differently (8 counts)."
   ]
  },
  {
   "cell_type": "markdown",
   "metadata": {},
   "source": [
    "1.8) compensation_share_data"
   ]
  },
  {
   "cell_type": "code",
   "execution_count": 38,
   "metadata": {},
   "outputs": [
    {
     "data": {
      "text/plain": [
       "array(['Mostly yes, depending on the personal data;',\n",
       "       'Yes, I strongly believe that companies should pay me for personal data;',\n",
       "       'No, I don’t want them to get any of my personal data, even if they pay;',\n",
       "       'Mostly yes, depending on the personal data and goals;',\n",
       "       'No, I’m fine to give my personal data for free;',\n",
       "       'You never give your data for free, you get the service in exchange',\n",
       "       \"depends on the data; if i'm basically anonymous then whatever.\",\n",
       "       'Yes for product marketing, no for non-profit marketing'],\n",
       "      dtype=object)"
      ]
     },
     "execution_count": 38,
     "metadata": {},
     "output_type": "execute_result"
    }
   ],
   "source": [
    "data1['compensation_share_data'].unique()"
   ]
  },
  {
   "cell_type": "markdown",
   "metadata": {},
   "source": [
    "The similar options of the comp_share_feelings categorical variable could be grouped together:\n",
    "    - to group 'Mostly yes, depending on the personal data and goals;' with 'Mostly yes, depending on the personal data;' and \"depends on the data; if i'm basically anonymous then whatever.\"\n",
    "    - to group 'Yes, I strongly believe that companies should pay me for personal data;' with 'You never give your data for free, you get the service in exchange'"
   ]
  },
  {
   "cell_type": "code",
   "execution_count": 39,
   "metadata": {},
   "outputs": [
    {
     "data": {
      "text/plain": [
       "depends     108\n",
       "yes_pay      31\n",
       "never        14\n",
       "yes_free     10\n",
       "Name: compensation_share_data, dtype: int64"
      ]
     },
     "execution_count": 39,
     "metadata": {},
     "output_type": "execute_result"
    }
   ],
   "source": [
    "def compensation(x):\n",
    "    if ((x == 'Mostly yes, depending on the personal data and goals;') | (x == 'Mostly yes, depending on the personal data;') | (x == \"depends on the data; if i'm basically anonymous then whatever.\") | (x == \"Yes for product marketing, no for non-profit marketing\")):\n",
    "        return 'depends'\n",
    "    if ((x == 'Yes, I strongly believe that companies should pay me for personal data;') | (x == 'You never give your data for free, you get the service in exchange')):\n",
    "        return 'yes_pay'\n",
    "    if (x == 'No, I don’t want them to get any of my personal data, even if they pay;'):\n",
    "        return 'never'\n",
    "    elif (x == 'No, I’m fine to give my personal data for free;'):\n",
    "        return 'yes_free'\n",
    "          \n",
    "data1['compensation_share_data'] = data1['compensation_share_data'].apply(compensation)\n",
    "data1['compensation_share_data'].value_counts()"
   ]
  },
  {
   "cell_type": "code",
   "execution_count": 40,
   "metadata": {
    "scrolled": true
   },
   "outputs": [
    {
     "data": {
      "text/plain": [
       "<seaborn.axisgrid.FacetGrid at 0x7fe4c38b7128>"
      ]
     },
     "execution_count": 40,
     "metadata": {},
     "output_type": "execute_result"
    },
    {
     "data": {
      "image/png": "[encoded data removed]",
      "text/plain": [
       "<Figure size 360x360 with 1 Axes>"
      ]
     },
     "metadata": {
      "needs_background": "light"
     },
     "output_type": "display_data"
    }
   ],
   "source": [
    "a = sns.catplot(x=\"compensation_share_data\", kind=\"count\", palette=\"ch:.25\", data=data1)\n",
    "a.set_xticklabels(rotation=90)"
   ]
  },
  {
   "cell_type": "markdown",
   "metadata": {},
   "source": [
    "The individuals who mostly want to share the data for free, depending on the personal data, are highly represented in the dataframe with 101 counts, followed by\n",
    "- the individuals who want to share the data but want compensation (29 counts);\n",
    "- the individuals who never want to share the data (13 counts);\n",
    "- the individuals who want to share the data for free (9 counts)."
   ]
  },
  {
   "cell_type": "markdown",
   "metadata": {},
   "source": [
    "1.9) value_pers_data"
   ]
  },
  {
   "cell_type": "code",
   "execution_count": 41,
   "metadata": {},
   "outputs": [
    {
     "data": {
      "text/plain": [
       "Average cost;           67\n",
       "Expensive;              45\n",
       "Low cost;               25\n",
       "Extremely expensive;    20\n",
       "Free;                    6\n",
       "Name: value_pers_data, dtype: int64"
      ]
     },
     "execution_count": 41,
     "metadata": {},
     "output_type": "execute_result"
    }
   ],
   "source": [
    "data1['value_pers_data'].value_counts()"
   ]
  },
  {
   "cell_type": "code",
   "execution_count": 42,
   "metadata": {},
   "outputs": [
    {
     "data": {
      "text/plain": [
       "average cost        67\n",
       "expensive           45\n",
       "low cost            25\n",
       "highly expensive    20\n",
       "free                 6\n",
       "Name: value_pers_data, dtype: int64"
      ]
     },
     "execution_count": 42,
     "metadata": {},
     "output_type": "execute_result"
    }
   ],
   "source": [
    "def value_data(x):\n",
    "    if (x == 'Average cost;'):\n",
    "        return 'average cost'\n",
    "    if (x == 'Expensive;'):\n",
    "        return 'expensive'\n",
    "    if (x == 'Low cost;'):\n",
    "        return 'low cost'\n",
    "    if (x == 'Extremely expensive;'):\n",
    "        return 'highly expensive'\n",
    "    elif (x == 'Free;'):\n",
    "        return 'free'\n",
    "          \n",
    "data1['value_pers_data'] = data1['value_pers_data'].apply(value_data)\n",
    "data1['value_pers_data'].value_counts()"
   ]
  },
  {
   "cell_type": "code",
   "execution_count": 43,
   "metadata": {},
   "outputs": [
    {
     "data": {
      "text/plain": [
       "<seaborn.axisgrid.FacetGrid at 0x7fe4c38dd358>"
      ]
     },
     "execution_count": 43,
     "metadata": {},
     "output_type": "execute_result"
    },
    {
     "data": {
      "image/png": "[encoded data removed]",
      "text/plain": [
       "<Figure size 360x360 with 1 Axes>"
      ]
     },
     "metadata": {
      "needs_background": "light"
     },
     "output_type": "display_data"
    }
   ],
   "source": [
    "a = sns.catplot(x=\"value_pers_data\", kind=\"count\", palette=\"ch:.25\", data=data1)\n",
    "a.set_xticklabels(rotation=90)"
   ]
  },
  {
   "cell_type": "markdown",
   "metadata": {},
   "source": [
    "The individuals who value their personal data as average cost, are highly represented in the dataframe with 64 counts, followed by\n",
    "- the individuals who value their personal data as expensive (42 counts);\n",
    "- the individuals who value their personal data as not expensive (24 counts);\n",
    "- the individuals who value their personal data as highly expensive (18 counts);\n",
    "- the individuals who value their prersonal data as free (4 counts)."
   ]
  },
  {
   "cell_type": "markdown",
   "metadata": {},
   "source": [
    "1.10) where"
   ]
  },
  {
   "cell_type": "code",
   "execution_count": 44,
   "metadata": {},
   "outputs": [
    {
     "data": {
      "text/plain": [
       "array([nan, 'USA', 'UK', 'NETHERLANDS', 'GERMANY', 'GREECE', 'POLAND',\n",
       "       'SERBIA', 'PORTUGAL', 'NORWAY', 'BELGIUM', 'AUSTRALIA', 'PAKISTAN',\n",
       "       'ETHIOPIA', 'ASIA', 'LATVIA', 'FRANCE', 'ITALY', 'SWITZERLAND',\n",
       "       'AUSTRIA', 'IRELAND', 'CANADA', 'SWEDEN', 'TURKEY', 'SCOTLAND',\n",
       "       'CHINA', 'KAZAKHSTAN', 'ROMANIA'], dtype=object)"
      ]
     },
     "execution_count": 44,
     "metadata": {},
     "output_type": "execute_result"
    }
   ],
   "source": [
    "data1['where'].unique()"
   ]
  },
  {
   "cell_type": "markdown",
   "metadata": {},
   "source": [
    "Let's group the continental Europe countries together:"
   ]
  },
  {
   "cell_type": "code",
   "execution_count": 45,
   "metadata": {},
   "outputs": [
    {
     "data": {
      "text/plain": [
       "UK                    56\n",
       "USA                   52\n",
       "CONTINENTAL EUROPE    44\n",
       "OTHER                 11\n",
       "Name: where, dtype: int64"
      ]
     },
     "execution_count": 45,
     "metadata": {},
     "output_type": "execute_result"
    }
   ],
   "source": [
    "def where(x):\n",
    "    if (x == 'CANADA') or (x == 'USA'):\n",
    "        return 'USA'\n",
    "    if (x == 'IRELAND') or (x == 'SCOTLAND') or (x == 'UK'):\n",
    "        return 'UK'\n",
    "    elif (x == 'TURKEY') or (x == 'PAKISTAN') or (x == 'KAZAKHSTAN') or (x == 'ETHIOPIA') or (x == 'AUSTRALIA') or (x == 'CHINA') or (pd.isnull(x)):\n",
    "        return 'OTHER'\n",
    "    else:\n",
    "        return 'CONTINENTAL EUROPE' \n",
    "    \n",
    "data1['where'] = data1['where'].apply(where)\n",
    "data1['where'].value_counts()"
   ]
  },
  {
   "cell_type": "code",
   "execution_count": 46,
   "metadata": {},
   "outputs": [
    {
     "data": {
      "text/plain": [
       "<seaborn.axisgrid.FacetGrid at 0x7fe4c38396a0>"
      ]
     },
     "execution_count": 46,
     "metadata": {},
     "output_type": "execute_result"
    },
    {
     "data": {
      "image/png": "[encoded data removed]",
      "text/plain": [
       "<Figure size 360x360 with 1 Axes>"
      ]
     },
     "metadata": {
      "needs_background": "light"
     },
     "output_type": "display_data"
    }
   ],
   "source": [
    "a = sns.catplot(x=\"where\", kind=\"count\", palette=\"ch:.25\", data=data1)\n",
    "a.set_xticklabels(rotation=90)"
   ]
  },
  {
   "cell_type": "markdown",
   "metadata": {},
   "source": [
    "The individuals coming from the UK are highly represented in the dataframe with 54 counts, followed by:\n",
    "- the individuals from the USA (47 counts);\n",
    "- the individuals from the continental europe (42 counts);\n",
    "- the individuals from other countries (9 counts)"
   ]
  },
  {
   "cell_type": "markdown",
   "metadata": {},
   "source": [
    "1.11) smarthphone_kind"
   ]
  },
  {
   "cell_type": "code",
   "execution_count": 47,
   "metadata": {},
   "outputs": [
    {
     "data": {
      "text/plain": [
       "array([nan, 'Android', 'iOS', 'iphone', 'Android phone and iOS Ipad Air',\n",
       "       'Android and Ios'], dtype=object)"
      ]
     },
     "execution_count": 47,
     "metadata": {},
     "output_type": "execute_result"
    }
   ],
   "source": [
    "data1['smartphone_kind'].unique()"
   ]
  },
  {
   "cell_type": "code",
   "execution_count": 48,
   "metadata": {},
   "outputs": [
    {
     "data": {
      "text/plain": [
       "iOS                81\n",
       "Android            69\n",
       "other              11\n",
       "Android and iOS     2\n",
       "Name: smartphone_kind, dtype: int64"
      ]
     },
     "execution_count": 48,
     "metadata": {},
     "output_type": "execute_result"
    }
   ],
   "source": [
    "def smartphone(x):\n",
    "    if (x == 'iphone') or (x == 'iOS'):\n",
    "        return 'iOS'\n",
    "    if (x == 'Android phone and iOS Ipad Air') or (x == 'Android and Ios'):\n",
    "        return 'Android and iOS'\n",
    "    if (x == 'Android'):\n",
    "        return 'Android'\n",
    "    elif (pd.isnull(x)):\n",
    "        return 'other'\n",
    "    \n",
    "    \n",
    "data1['smartphone_kind'] = data1['smartphone_kind'].apply(smartphone)\n",
    "data1['smartphone_kind'].value_counts()"
   ]
  },
  {
   "cell_type": "code",
   "execution_count": 49,
   "metadata": {},
   "outputs": [
    {
     "data": {
      "text/plain": [
       "<seaborn.axisgrid.FacetGrid at 0x7fe4c37a5828>"
      ]
     },
     "execution_count": 49,
     "metadata": {},
     "output_type": "execute_result"
    },
    {
     "data": {
      "image/png": "[encoded data removed]",
      "text/plain": [
       "<Figure size 360x360 with 1 Axes>"
      ]
     },
     "metadata": {
      "needs_background": "light"
     },
     "output_type": "display_data"
    }
   ],
   "source": [
    "a = sns.catplot(x=\"smartphone_kind\", kind=\"count\", palette=\"ch:.25\", data=data1)\n",
    "a.set_xticklabels(rotation=90)"
   ]
  },
  {
   "cell_type": "markdown",
   "metadata": {},
   "source": [
    "NUMERICAL VARIABLES"
   ]
  },
  {
   "cell_type": "code",
   "execution_count": 50,
   "metadata": {},
   "outputs": [
    {
     "data": {
      "text/plain": [
       "id                              0\n",
       "gender                          0\n",
       "position                        0\n",
       "sector                          0\n",
       "industry                        0\n",
       "earning_year                    0\n",
       "privacy_feelings                0\n",
       "compensation_share_data         0\n",
       "value_pers_data                 0\n",
       "smartphone_kind                 0\n",
       "age                             0\n",
       "My position is_norm             1\n",
       "earning_norm                    0\n",
       "nr_devices                      0\n",
       "tot_install_apps                0\n",
       "nr_install_games                0\n",
       "nr_purchase_goods_apps          0\n",
       "nr_pay_sub_apps                 0\n",
       "nr_banks_apps                   0\n",
       "nr_social_net_apps              0\n",
       "nr_installed_payment_systems    0\n",
       "where                           0\n",
       "is_student                      0\n",
       "age_group                       0\n",
       "dtype: int64"
      ]
     },
     "execution_count": 50,
     "metadata": {},
     "output_type": "execute_result"
    }
   ],
   "source": [
    "data1.isnull().sum()"
   ]
  },
  {
   "cell_type": "code",
   "execution_count": 51,
   "metadata": {},
   "outputs": [],
   "source": [
    "data1.drop([\n",
    "            'id',\n",
    "            'sector',\n",
    "            'My position is_norm',\n",
    "            'earning_norm',\n",
    "            'age'\n",
    "           ],\n",
    "           axis=1, inplace=True\n",
    "          )"
   ]
  },
  {
   "cell_type": "code",
   "execution_count": 52,
   "metadata": {},
   "outputs": [
    {
     "data": {
      "text/plain": [
       "Index(['gender', 'position', 'industry', 'earning_year', 'privacy_feelings',\n",
       "       'compensation_share_data', 'value_pers_data', 'smartphone_kind',\n",
       "       'nr_devices', 'tot_install_apps', 'nr_install_games',\n",
       "       'nr_purchase_goods_apps', 'nr_pay_sub_apps', 'nr_banks_apps',\n",
       "       'nr_social_net_apps', 'nr_installed_payment_systems', 'where',\n",
       "       'is_student', 'age_group'],\n",
       "      dtype='object')"
      ]
     },
     "execution_count": 52,
     "metadata": {},
     "output_type": "execute_result"
    }
   ],
   "source": [
    "data1.columns"
   ]
  },
  {
   "cell_type": "code",
   "execution_count": 53,
   "metadata": {},
   "outputs": [
    {
     "data": {
      "text/plain": [
       "gender                          0\n",
       "position                        0\n",
       "industry                        0\n",
       "earning_year                    0\n",
       "privacy_feelings                0\n",
       "compensation_share_data         0\n",
       "value_pers_data                 0\n",
       "smartphone_kind                 0\n",
       "nr_devices                      0\n",
       "tot_install_apps                0\n",
       "nr_install_games                0\n",
       "nr_purchase_goods_apps          0\n",
       "nr_pay_sub_apps                 0\n",
       "nr_banks_apps                   0\n",
       "nr_social_net_apps              0\n",
       "nr_installed_payment_systems    0\n",
       "where                           0\n",
       "is_student                      0\n",
       "age_group                       0\n",
       "dtype: int64"
      ]
     },
     "execution_count": 53,
     "metadata": {},
     "output_type": "execute_result"
    }
   ],
   "source": [
    "data1.isnull().sum()"
   ]
  },
  {
   "cell_type": "code",
   "execution_count": 54,
   "metadata": {},
   "outputs": [],
   "source": [
    "data1.to_csv('post_processed2.csv')"
   ]
  },
  {
   "cell_type": "code",
   "execution_count": 56,
   "metadata": {},
   "outputs": [],
   "source": [
    "data1 = data1[data1['tot_install_apps'] != -1].reset_index()"
   ]
  },
  {
   "cell_type": "code",
   "execution_count": 57,
   "metadata": {},
   "outputs": [],
   "source": [
    "data1.to_csv('post_processed3.csv')"
   ]
  }
 ],
 "metadata": {
  "kernelspec": {
   "display_name": "Python 3",
   "language": "python",
   "name": "python3"
  },
  "language_info": {
   "codemirror_mode": {
    "name": "ipython",
    "version": 3
   },
   "file_extension": ".py",
   "mimetype": "text/x-python",
   "name": "python",
   "nbconvert_exporter": "python",
   "pygments_lexer": "ipython3",
   "version": "3.7.1"
  }
 },
 "nbformat": 4,
 "nbformat_minor": 2
}
